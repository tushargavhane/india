{
 "cells": [
  {
   "cell_type": "code",
   "execution_count": null,
   "id": "bfd28b03",
   "metadata": {},
   "outputs": [],
   "source": [
    "#Implement Feed Forward Network\n",
    "#Importing Libraries\n",
    "import tensorflow as tf"
   ]
  },
  {
   "cell_type": "code",
   "execution_count": null,
   "id": "2870f6ea",
   "metadata": {},
   "outputs": [],
   "source": [
    "from tensorflow import keras"
   ]
  },
  {
   "cell_type": "code",
   "execution_count": null,
   "id": "6efa156a",
   "metadata": {},
   "outputs": [],
   "source": [
    "import pandas as pd\n",
    "import numpy as np\n",
    "import matplotlib.pyplot as plt\n",
    "import random\n",
    "%matplotlib inline"
   ]
  },
  {
   "cell_type": "code",
   "execution_count": null,
   "id": "a9582c86",
   "metadata": {},
   "outputs": [],
   "source": [
    "#Import dataSet and Split into train and test data\n",
    "mnist = tf.keras.datasets.mnist\n",
    "(x_train,y_train),(x_test,y_test)=mnist.load_data()\n"
   ]
  },
  {
   "cell_type": "code",
   "execution_count": null,
   "id": "5a9639c7",
   "metadata": {},
   "outputs": [],
   "source": [
    "#To see how first image look\n",
    "plt.matshow(x_train[0])"
   ]
  },
  {
   "cell_type": "code",
   "execution_count": null,
   "id": "835b01a5",
   "metadata": {},
   "outputs": [],
   "source": [
    "# Normalize the image by scaling pixel intensities to the range 0,1\n",
    "\n",
    "x_train=x_train/255\n",
    "x_test=x_test/255"
   ]
  },
  {
   "cell_type": "code",
   "execution_count": null,
   "id": "d6434a24",
   "metadata": {},
   "outputs": [],
   "source": [
    "x_train[0]"
   ]
  },
  {
   "cell_type": "code",
   "execution_count": null,
   "id": "7caa2de3",
   "metadata": {},
   "outputs": [],
   "source": [
    "'''Creating the model\n",
    "The ReLLj function is one of the mast popular activation functions. It stands for \"rectified linear unit\".\n",
    "Mathematically this function is defined as. y =max(0,x).\n",
    "The ReLlJ function returns å0' if the input is negative and is linear if the input is positive.\n",
    "The softmax function is another activation function. It changes input values into values that reach from O to 1'''\n",
    "\n",
    "model=keras.Sequential([\n",
    "    keras.layers.Flatten(input_shape=(28,28)),\n",
    "    keras.layers.Dense(128,activation='relu'),\n",
    "    keras.layers.Dense(10,activation='softmax')\n",
    "])"
   ]
  },
  {
   "cell_type": "code",
   "execution_count": null,
   "id": "eee91147",
   "metadata": {},
   "outputs": [],
   "source": [
    "model.summary()"
   ]
  },
  {
   "cell_type": "code",
   "execution_count": null,
   "id": "ea244228",
   "metadata": {},
   "outputs": [],
   "source": [
    "#Compile the model\n",
    "\n",
    "model.compile(optimizer='sgd',\n",
    "              loss='sparse_categorical_crossentropy',\n",
    "              metrics=['accuracy'])"
   ]
  },
  {
   "cell_type": "code",
   "execution_count": null,
   "id": "10e70136",
   "metadata": {},
   "outputs": [],
   "source": [
    "#Train the model\n",
    "\n",
    "history=model.fit(x_train,y_train,validation_data=(x_test,y_test),epochs=10)"
   ]
  },
  {
   "cell_type": "code",
   "execution_count": null,
   "id": "ca688efa",
   "metadata": {},
   "outputs": [],
   "source": [
    "#Evaluate the model\n",
    "test_loss,test_acc=model.evaluate(x_test,y_test)\n",
    "print(\"Loss=%.3f\" %test_loss)\n",
    "print(\"Accuracy=%.3f\" %test_acc)"
   ]
  },
  {
   "cell_type": "code",
   "execution_count": null,
   "id": "078a38a7",
   "metadata": {},
   "outputs": [],
   "source": [
    "#Making Prediction on new data\n",
    "n=random.randint(0,9999)\n",
    "plt.imshow(x_test[n])\n",
    "plt.show"
   ]
  },
  {
   "cell_type": "code",
   "execution_count": null,
   "id": "11e26bf6",
   "metadata": {},
   "outputs": [],
   "source": [
    "#Plot Graph for Accuracy and Loss\n",
    "\n",
    "plt.plot(history.history['accuracy'])\n",
    "plt.plot(history.history['val_accuracy'])\n",
    "plt.title('model accuracy')\n",
    "plt.ylabel('accuracy')\n",
    "plt.xlabel('epoch')\n",
    "plt.legend(['Train', 'Validation'], loc='upper left')\n",
    "plt.show()"
   ]
  },
  {
   "cell_type": "code",
   "execution_count": null,
   "id": "a9aa1506",
   "metadata": {},
   "outputs": [],
   "source": [
    "#We use predict() on new data\n",
    "test_predict=model.predict(x_test)\n",
    "test_predict_labels=np.argmax(test_predict,axis=1)\n",
    "confusion_matrix=tf.math.confusion_matrix(labels=y_test,predictions=test_predict_labels)\n",
    "print('confusion matrix of the test set :\\n', confusion_matrix)"
   ]
  },
  {
   "cell_type": "code",
   "execution_count": null,
   "id": "d39022ca",
   "metadata": {},
   "outputs": [],
   "source": []
  }
 ],
 "metadata": {
  "kernelspec": {
   "display_name": "Python 3 (ipykernel)",
   "language": "python",
   "name": "python3"
  },
  "language_info": {
   "codemirror_mode": {
    "name": "ipython",
    "version": 3
   },
   "file_extension": ".py",
   "mimetype": "text/x-python",
   "name": "python",
   "nbconvert_exporter": "python",
   "pygments_lexer": "ipython3",
   "version": "3.9.13"
  },
  "vscode": {
   "interpreter": {
    "hash": "ad4397964727ab91b140313f90c656b9c902c5850e4e9d5eb48b62662a68cd2e"
   }
  }
 },
 "nbformat": 4,
 "nbformat_minor": 5
}
